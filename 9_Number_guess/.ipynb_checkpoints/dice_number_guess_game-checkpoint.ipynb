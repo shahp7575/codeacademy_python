{
 "cells": [
  {
   "cell_type": "code",
   "execution_count": 5,
   "metadata": {},
   "outputs": [
    {
     "name": "stdout",
     "output_type": "stream",
     "text": [
      "Maximum possible value is: 12\n",
      "Guess the total:10\n",
      "Rolling...\n",
      "First dice roll: 5\n",
      "Second dice roll: 1\n",
      "Total roll: 6\n",
      "Result...\n",
      "Sorry you have lost :(\n"
     ]
    }
   ],
   "source": [
    "\"\"\"Dice number guess! \n",
    "The user will be asked to roll a pair of dice and also guess the total value of the dice roll. \n",
    "If the user's guess equals the dice roll total then the user wins!!!!!!\"\"\"\n",
    "\n",
    "from random import randint\n",
    "from time import sleep\n",
    "\n",
    "def get_user_guess():\n",
    "  guess = int(input(\"Guess the total:\"))\n",
    "  return guess\n",
    "\n",
    "def roll_dice(number_of_sides):\n",
    "  first_roll = randint(1, number_of_sides)\n",
    "  second_roll = randint(1, number_of_sides)\n",
    "  \n",
    "  max_val = number_of_sides * 2\n",
    "  print(\"Maximum possible value is: %s\" %(str(max_val)))\n",
    "  guess = get_user_guess()\n",
    "  \n",
    "  if (guess > max_val):\n",
    "    print(\"Guessed number should be less than the maximum possible value\")\n",
    "  else:\n",
    "    print(\"Rolling...\")\n",
    "    sleep(2)\n",
    "    print(\"First dice roll: %d\" %(first_roll))\n",
    "    sleep(1)\n",
    "    print(\"Second dice roll: %d\" %(second_roll))\n",
    "    sleep(1)\n",
    "    total_roll = first_roll + second_roll\n",
    "    print(\"Total roll: %d\" %(total_roll))\n",
    "    \n",
    "    print(\"Result...\")\n",
    "    sleep(1)\n",
    "    if(guess == total_roll):\n",
    "      print(\"Congratulations! You have won!!!\")\n",
    "    else:\n",
    "      print(\"Sorry you have lost :(\")\n",
    "    \n",
    "roll_dice(6)"
   ]
  }
 ],
 "metadata": {
  "kernelspec": {
   "display_name": "Python 3",
   "language": "python",
   "name": "python3"
  },
  "language_info": {
   "codemirror_mode": {
    "name": "ipython",
    "version": 3
   },
   "file_extension": ".py",
   "mimetype": "text/x-python",
   "name": "python",
   "nbconvert_exporter": "python",
   "pygments_lexer": "ipython3",
   "version": "3.6.1"
  }
 },
 "nbformat": 4,
 "nbformat_minor": 2
}
