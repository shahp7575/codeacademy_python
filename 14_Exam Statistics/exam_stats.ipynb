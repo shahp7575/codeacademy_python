{
 "cells": [
  {
   "cell_type": "code",
   "execution_count": 8,
   "metadata": {},
   "outputs": [
    {
     "name": "stdout",
     "output_type": "stream",
     "text": [
      "100\n",
      "100\n",
      "90\n",
      "40\n",
      "80\n",
      "100\n",
      "85\n",
      "70\n",
      "90\n",
      "65\n",
      "90\n",
      "85\n",
      "50.5\n",
      "1045.5\n",
      "80.42307692307692\n",
      "334.0710059171598\n",
      "18.277609414722697\n"
     ]
    }
   ],
   "source": [
    "grades = [100, 100, 90, 40, 80, 100, 85, 70, 90, 65, 90, 85, 50.5]\n",
    "\n",
    "def print_grades(grades_input):\n",
    "  for grade in grades_input:\n",
    "    print(grade)\n",
    "\n",
    "def grades_sum(scores):\n",
    "  total = 0\n",
    "  for score in scores: \n",
    "    total += score\n",
    "  return total\n",
    "    \n",
    "def grades_average(grades_input):\n",
    "  sum_of_grades = grades_sum(grades_input)\n",
    "  average = sum_of_grades / float(len(grades_input))\n",
    "  return average\n",
    "\n",
    "def grades_variance(scores):\n",
    "    average = grades_average(scores)\n",
    "    variance = 0\n",
    "    for score in scores:\n",
    "        variance += (average - score) ** 2\n",
    "    return variance / len(scores)\n",
    "\n",
    "def grades_std_deviation(variance):\n",
    "  return variance ** 0.5\n",
    "\n",
    "print_grades(grades)\n",
    "print(grades_sum(grades))\n",
    "print(grades_average(grades))\n",
    "variance = grades_variance(grades)\n",
    "print(variance)\n",
    "print(grades_std_deviation(variance))"
   ]
  }
 ],
 "metadata": {
  "kernelspec": {
   "display_name": "Python 3",
   "language": "python",
   "name": "python3"
  },
  "language_info": {
   "codemirror_mode": {
    "name": "ipython",
    "version": 3
   },
   "file_extension": ".py",
   "mimetype": "text/x-python",
   "name": "python",
   "nbconvert_exporter": "python",
   "pygments_lexer": "ipython3",
   "version": "3.6.1"
  }
 },
 "nbformat": 4,
 "nbformat_minor": 2
}
