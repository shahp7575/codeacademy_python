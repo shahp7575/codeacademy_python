{
 "cells": [
  {
   "cell_type": "code",
   "execution_count": 1,
   "metadata": {
    "collapsed": true
   },
   "outputs": [],
   "source": [
    "class BankAccount(object):\n",
    "  balance = 0\n",
    "  def __init__(self, name):\n",
    "    self.name = name\n",
    "    \n",
    "  def __repr__(self):\n",
    "    return \"The account belongs to %s. Cuurent Balance: %5.2f\" %(self.name, self.balance)"
   ]
  },
  {
   "cell_type": "code",
   "execution_count": 2,
   "metadata": {},
   "outputs": [
    {
     "name": "stdout",
     "output_type": "stream",
     "text": [
      "The account belongs to Parth. Current Balance:  0.00\n",
      "User Balance:  0.00\n",
      "Amount to be deposited: 200.00\n",
      "User Balance: 200.00\n",
      "Amount to be withdrawn is greater than the current balance. Enter valid amount.\n",
      "The account belongs to Parth. Current Balance: 200.00\n"
     ]
    }
   ],
   "source": [
    "class BankAccount(object):\n",
    "  balance = 0\n",
    "  def __init__(self, name):\n",
    "    self.name = name\n",
    "    \n",
    "  def __repr__(self):\n",
    "    return \"The account belongs to %s. Current Balance: %5.2f\" %(self.name, self.balance)\n",
    "  \n",
    "  def show_balance(self):\n",
    "    print(\"User Balance: %5.2f\" %(self.balance))\n",
    "    \n",
    "  def deposit(self, amount):\n",
    "    if amount <= 0:\n",
    "      error_msg = \"Enter valid amount.\"\n",
    "      return(error_msg)\n",
    "    else:\n",
    "      print(\"Amount to be deposited: %5.2f\" %(amount))\n",
    "      self.balance += amount\n",
    "      self.show_balance()\n",
    "      \n",
    "  def withdraw(self, amount):\n",
    "    if amount > self.balance:\n",
    "      print(\"Amount to be withdrawn is greater than the current balance. Enter valid amount.\")\n",
    "    else:\n",
    "      print(\"Amout to be withdrawn: %5.2f\" %(amount))\n",
    "      self.balance -= amount\n",
    "      self.show_balance()\n",
    "      \n",
    "my_account = BankAccount(\"Parth\")\n",
    "print(my_account)\n",
    "my_account.show_balance()\n",
    "my_account.deposit(200)\n",
    "my_account.withdraw(1000)\n",
    "print(my_account)"
   ]
  }
 ],
 "metadata": {
  "kernelspec": {
   "display_name": "Python 3",
   "language": "python",
   "name": "python3"
  },
  "language_info": {
   "codemirror_mode": {
    "name": "ipython",
    "version": 3
   },
   "file_extension": ".py",
   "mimetype": "text/x-python",
   "name": "python",
   "nbconvert_exporter": "python",
   "pygments_lexer": "ipython3",
   "version": "3.6.1"
  }
 },
 "nbformat": 4,
 "nbformat_minor": 2
}
