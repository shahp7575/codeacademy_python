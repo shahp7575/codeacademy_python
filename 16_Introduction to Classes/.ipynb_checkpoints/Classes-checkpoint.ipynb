{
 "cells": [
  {
   "cell_type": "code",
   "execution_count": 1,
   "metadata": {
    "collapsed": true
   },
   "outputs": [],
   "source": [
    "class Car(object):\n",
    "  pass\n",
    "\n",
    "my_car = Car()"
   ]
  },
  {
   "cell_type": "code",
   "execution_count": 2,
   "metadata": {
    "collapsed": true
   },
   "outputs": [],
   "source": [
    "class Car(object):\n",
    "  condition = \"new\"\n",
    "\n",
    "my_car = Car()"
   ]
  },
  {
   "cell_type": "code",
   "execution_count": 3,
   "metadata": {},
   "outputs": [
    {
     "name": "stdout",
     "output_type": "stream",
     "text": [
      "new\n"
     ]
    }
   ],
   "source": [
    "class Car(object):\n",
    "  condition = \"new\"\n",
    "\n",
    "my_car = Car()\n",
    "print(my_car.condition)"
   ]
  },
  {
   "cell_type": "code",
   "execution_count": 4,
   "metadata": {},
   "outputs": [
    {
     "name": "stdout",
     "output_type": "stream",
     "text": [
      "new\n"
     ]
    }
   ],
   "source": [
    "class Car(object):\n",
    "  condition = \"new\"\n",
    "  def __init__(self, model, color, mpg):\n",
    "    self.model = model\n",
    "    self.color = color\n",
    "    self.mpg = mpg\n",
    "\n",
    "my_car = Car(\"DeLorean\", \"silver\", 88)\n",
    "print(my_car.condition)"
   ]
  },
  {
   "cell_type": "code",
   "execution_count": 5,
   "metadata": {},
   "outputs": [
    {
     "name": "stdout",
     "output_type": "stream",
     "text": [
      "new\n",
      "DeLorean\n",
      "silver\n",
      "88\n"
     ]
    }
   ],
   "source": [
    "class Car(object):\n",
    "  condition = \"new\"\n",
    "  def __init__(self, model, color, mpg):\n",
    "    self.model = model\n",
    "    self.color = color\n",
    "    self.mpg = mpg\n",
    "\n",
    "my_car = Car(\"DeLorean\", \"silver\", 88)\n",
    "print(my_car.condition)\n",
    "print(my_car.model)\n",
    "print(my_car.color)\n",
    "print(my_car.mpg)"
   ]
  },
  {
   "cell_type": "code",
   "execution_count": 7,
   "metadata": {},
   "outputs": [
    {
     "name": "stdout",
     "output_type": "stream",
     "text": [
      "This is a silver DeLorean with 88 MPG.\n"
     ]
    }
   ],
   "source": [
    "class Car(object):\n",
    "  condition = \"new\"\n",
    "  def __init__(self, model, color, mpg):\n",
    "    self.model = model\n",
    "    self.color = color\n",
    "    self.mpg   = mpg\n",
    "    \n",
    "  def display_car(self):\n",
    "    return \"This is a %s %s with %s MPG.\" %(self.color, self.model, str(self.mpg))\n",
    "\n",
    "my_car = Car(\"DeLorean\", \"silver\", 88)\n",
    "print(my_car.display_car())"
   ]
  },
  {
   "cell_type": "code",
   "execution_count": 8,
   "metadata": {},
   "outputs": [
    {
     "name": "stdout",
     "output_type": "stream",
     "text": [
      "new\n",
      "None\n",
      "used\n"
     ]
    }
   ],
   "source": [
    "class Car(object):\n",
    "  condition = \"new\"\n",
    "  def __init__(self, model, color, mpg):\n",
    "    self.model = model\n",
    "    self.color = color\n",
    "    self.mpg   = mpg\n",
    "    \n",
    "  def display_car(self):\n",
    "    return \"This is a %s %s with %s MPG.\" %(self.color, self.model, str(self.mpg))\n",
    "  \n",
    "  def drive_car(self):\n",
    "    self.condition = \"used\"\n",
    "\n",
    "my_car = Car(\"DeLorean\", \"silver\", 88)\n",
    "print(my_car.condition)\n",
    "print(my_car.drive_car())\n",
    "print(my_car.condition)"
   ]
  },
  {
   "cell_type": "code",
   "execution_count": 10,
   "metadata": {},
   "outputs": [],
   "source": [
    "class Car(object):\n",
    "  condition = \"new\"\n",
    "  def __init__(self, model, color, mpg):\n",
    "    self.model = model\n",
    "    self.color = color\n",
    "    self.mpg   = mpg\n",
    "   \n",
    "  def display_car(self):\n",
    "    print (\"This is a %s %s with %s MPG.\" % (self.color, self.model, str(self.mpg)))\n",
    "    \n",
    "  def drive_car(self):\n",
    "    self.condition = \"used\"\n",
    "    \n",
    "class ElectricCar(Car):\n",
    "  def __init__(self, model, color, mpg, battery_type):\n",
    "    self.model = model\n",
    "    self.color = color\n",
    "    self.mpg   = mpg\n",
    "    self.battery_type = battery_type\n",
    "\n",
    "my_car = ElectricCar(\"DeLorean\", \"silver\", 88, \"molten salt\")"
   ]
  },
  {
   "cell_type": "code",
   "execution_count": 11,
   "metadata": {},
   "outputs": [
    {
     "name": "stdout",
     "output_type": "stream",
     "text": [
      "new\n",
      "like new\n"
     ]
    }
   ],
   "source": [
    "class Car(object):\n",
    "  condition = \"new\"\n",
    "  def __init__(self, model, color, mpg):\n",
    "    self.model = model\n",
    "    self.color = color\n",
    "    self.mpg   = mpg\n",
    "   \n",
    "  def display_car(self):\n",
    "    print (\"This is a %s %s with %s MPG.\" % (self.color, self.model, str(self.mpg)))\n",
    "    \n",
    "  def drive_car(self):\n",
    "    self.condition = \"used\"\n",
    "    \n",
    "class ElectricCar(Car):\n",
    "  def __init__(self, model, color, mpg, battery_type):\n",
    "    self.model = model\n",
    "    self.color = color\n",
    "    self.mpg   = mpg\n",
    "    self.battery_type = battery_type\n",
    "    \n",
    "  def drive_car(self):\n",
    "    self.condition = \"like new\"\n",
    "\n",
    "my_car = ElectricCar(\"DeLorean\", \"silver\", 88, \"molten salt\")\n",
    "print(my_car.condition)\n",
    "my_car.drive_car()\n",
    "print(my_car.condition)"
   ]
  },
  {
   "cell_type": "code",
   "execution_count": 12,
   "metadata": {},
   "outputs": [
    {
     "name": "stdout",
     "output_type": "stream",
     "text": [
      "(1, 2, 3)\n"
     ]
    }
   ],
   "source": [
    "class Point3D(object):\n",
    "  def __init__(self, x, y, z):\n",
    "    self.x = x\n",
    "    self.y = y\n",
    "    self.z = z\n",
    "    \n",
    "  def __repr__(self):\n",
    "    return (\"(%d, %d, %d)\" %(self.x, self.y, self.z))\n",
    "    \n",
    "my_point = Point3D(1,2,3)\n",
    "print(my_point)"
   ]
  }
 ],
 "metadata": {
  "kernelspec": {
   "display_name": "Python 3",
   "language": "python",
   "name": "python3"
  },
  "language_info": {
   "codemirror_mode": {
    "name": "ipython",
    "version": 3
   },
   "file_extension": ".py",
   "mimetype": "text/x-python",
   "name": "python",
   "nbconvert_exporter": "python",
   "pygments_lexer": "ipython3",
   "version": "3.6.1"
  }
 },
 "nbformat": 4,
 "nbformat_minor": 2
}
