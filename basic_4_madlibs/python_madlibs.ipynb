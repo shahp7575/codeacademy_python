{
 "cells": [
  {
   "cell_type": "code",
   "execution_count": 1,
   "metadata": {},
   "outputs": [
    {
     "name": "stdout",
     "output_type": "stream",
     "text": [
      "Enter a name: Parth\n",
      "How you feeling?good\n",
      "How is your day?long\n",
      "bunch of ___?blanket\n",
      "Your favorite thing?pillow\n",
      "Dance or sing?sing\n",
      "Your favorite song right now?Cocachella\n",
      "girl or boy?girl\n",
      "Feeling when someone plays Jay-Z?terrible\n",
      "Who cares for you the most?Parth\n",
      "What does he/she say the most?\"I love you\"\n",
      "Where does he/she live?Minnesota\n",
      "Where do you live?Iceland\n",
      "Your favourite gift?necklace\n",
      "What is the most disgusting thing for you?yogurt\n",
      "Name one of your family personTessa\n",
      "Till what year you wanna live?3000\n",
      "Who will rule the world in future?Sadie\n",
      "This morning Parth woke up feeling good. 'It is going to be a long day!' Outside, a bunch of blankets were protesting to keep pillow in stores. They began to sing to the rhythm of the Cocachella, which made all the girls very terrible. Concerned, Parth texted \"I love you\", who flew Minnesota to Iceland and dropped necklace in a puddle of frozen yogurt. Tessa woke up in the year 3000, in a world where Sadies ruled the world.\n"
     ]
    }
   ],
   "source": [
    "STORY = \"This morning _ woke up feeling _. 'It is going to be a _ day!' Outside, a bunch of _s were protesting to keep _ in stores. They began to _ to the rhythm of the _, which made all the _s very _. Concerned, _ texted _, who flew _ to _ and dropped _ in a puddle of frozen _. _ woke up in the year _, in a world where _s ruled the world.\"\n",
    "\n",
    "who_blank = input(\"Enter a name: \")\n",
    "feeling_blank = input(\"How you feeling?\")\n",
    "day_blank = input(\"How is your day?\")\n",
    "bunch_blank = input(\"bunch of ___?\")\n",
    "stores_blank = input(\"Your favorite thing?\")\n",
    "began_blank = input(\"Dance or sing?\")\n",
    "rhythm_blank = input(\"Your favorite song right now?\")\n",
    "made_blank = input(\"girl or boy?\")\n",
    "very_blank = input(\"Feeling when someone plays Jay-Z?\")\n",
    "concern_blank = input(\"Who cares for you the most?\")\n",
    "text_blank = input(\"What does he/she say the most?\")\n",
    "flew_blank = input(\"Where does he/she live?\")\n",
    "to_blank = input(\"Where do you live?\")\n",
    "drop_blank = input(\"Your favourite gift?\")\n",
    "frozen_blank = input(\"What is the most disgusting thing for you?\")\n",
    "woke_blank = input(\"Name one of your family person\")\n",
    "year_blank = input(\"Till what year you wanna live?\")\n",
    "ruler_blank = input(\"Who will rule the world in future?\")\n",
    "\n",
    "print(\"This morning %s woke up feeling %s. 'It is going to be a %s day!' Outside, a bunch of %ss were protesting to keep %s in stores. They began to %s to the rhythm of the %s, which made all the %ss very %s. Concerned, %s texted %s, who flew %s to %s and dropped %s in a puddle of frozen %s. %s woke up in the year %s, in a world where %ss ruled the world.\" %(who_blank, feeling_blank, day_blank, bunch_blank, stores_blank, began_blank, rhythm_blank, made_blank, very_blank, concern_blank, text_blank, flew_blank, to_blank, drop_blank, frozen_blank, woke_blank, year_blank, ruler_blank))\n"
   ]
  },
  {
   "cell_type": "code",
   "execution_count": null,
   "metadata": {
    "collapsed": true
   },
   "outputs": [],
   "source": []
  }
 ],
 "metadata": {
  "kernelspec": {
   "display_name": "Python 3",
   "language": "python",
   "name": "python3"
  },
  "language_info": {
   "codemirror_mode": {
    "name": "ipython",
    "version": 3
   },
   "file_extension": ".py",
   "mimetype": "text/x-python",
   "name": "python",
   "nbconvert_exporter": "python",
   "pygments_lexer": "ipython3",
   "version": "3.6.1"
  }
 },
 "nbformat": 4,
 "nbformat_minor": 2
}
