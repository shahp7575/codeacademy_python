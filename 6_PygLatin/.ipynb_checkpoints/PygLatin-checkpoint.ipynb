{
 "cells": [
  {
   "cell_type": "code",
   "execution_count": 2,
   "metadata": {},
   "outputs": [
    {
     "name": "stdout",
     "output_type": "stream",
     "text": [
      "Pig Latin\n",
      "Enter a word:Parth\n",
      "arthpay\n"
     ]
    }
   ],
   "source": [
    "print(\"Pig Latin\")\n",
    "\n",
    "pyg = 'ay'\n",
    "original = input('Enter a word:')\n",
    "\n",
    "if len(original) > 0 and original.isalpha():\n",
    "  word = original.lower()\n",
    "  first = word[0]\n",
    "  new_word = word + first + pyg\n",
    "  new_word = new_word[1:len(new_word)]\n",
    "  print (new_word)\n",
    "else:\n",
    "  print ('empty')"
   ]
  },
  {
   "cell_type": "markdown",
   "metadata": {},
   "source": [
    "You can use [.isalpha()](https://www.geeksforgeeks.org/python-string-isalpha-application/) to check that a string doesn't contain any non-letter characters!"
   ]
  }
 ],
 "metadata": {
  "kernelspec": {
   "display_name": "Python 3",
   "language": "python",
   "name": "python3"
  },
  "language_info": {
   "codemirror_mode": {
    "name": "ipython",
    "version": 3
   },
   "file_extension": ".py",
   "mimetype": "text/x-python",
   "name": "python",
   "nbconvert_exporter": "python",
   "pygments_lexer": "ipython3",
   "version": "3.6.1"
  }
 },
 "nbformat": 4,
 "nbformat_minor": 2
}
