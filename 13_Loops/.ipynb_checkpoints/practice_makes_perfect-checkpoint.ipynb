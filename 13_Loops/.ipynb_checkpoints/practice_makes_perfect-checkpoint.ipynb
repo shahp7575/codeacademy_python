{
 "cells": [
  {
   "cell_type": "code",
   "execution_count": 1,
   "metadata": {
    "collapsed": true
   },
   "outputs": [],
   "source": [
    "def is_even(x):\n",
    "  if(x % 2 == 0):\n",
    "    return True\n",
    "  else:\n",
    "    return False"
   ]
  },
  {
   "cell_type": "code",
   "execution_count": 4,
   "metadata": {},
   "outputs": [
    {
     "data": {
      "text/plain": [
       "False"
      ]
     },
     "execution_count": 4,
     "metadata": {},
     "output_type": "execute_result"
    }
   ],
   "source": [
    "def is_int(x):\n",
    "  if abs(x - int(x)) > 0:\n",
    "    return False\n",
    "  else:\n",
    "    return True\n",
    "\n",
    "is_int(-9.5)"
   ]
  },
  {
   "cell_type": "code",
   "execution_count": 6,
   "metadata": {},
   "outputs": [
    {
     "data": {
      "text/plain": [
       "4"
      ]
     },
     "execution_count": 6,
     "metadata": {},
     "output_type": "execute_result"
    }
   ],
   "source": [
    "len(str(1234))"
   ]
  },
  {
   "cell_type": "code",
   "execution_count": 10,
   "metadata": {},
   "outputs": [
    {
     "name": "stdout",
     "output_type": "stream",
     "text": [
      "11\n"
     ]
    }
   ],
   "source": [
    "def digit_sum(n):\n",
    "  length = len(str(n))\n",
    "  total = 0\n",
    "  for i in range(length):\n",
    "    total = total + (n % 10)\n",
    "    n = n//10\n",
    "  print(total)\n",
    "\n",
    "digit_sum(434)"
   ]
  },
  {
   "cell_type": "code",
   "execution_count": 12,
   "metadata": {},
   "outputs": [
    {
     "name": "stdout",
     "output_type": "stream",
     "text": [
      "120\n"
     ]
    }
   ],
   "source": [
    "def factorial(x):\n",
    "  result = 1\n",
    "  for i in range(1, x + 1):\n",
    "    result = result * i\n",
    "  print(result)\n",
    "\n",
    "factorial(5)"
   ]
  },
  {
   "cell_type": "code",
   "execution_count": 69,
   "metadata": {},
   "outputs": [
    {
     "data": {
      "text/plain": [
       "True"
      ]
     },
     "execution_count": 69,
     "metadata": {},
     "output_type": "execute_result"
    }
   ],
   "source": [
    "def is_prime(x):\n",
    "\n",
    "  if(x == 2) | (x == 3):\n",
    "    is_it = True\n",
    "  else:\n",
    "    is_it = False\n",
    "\n",
    "  for n in range(2, x - 1):\n",
    "    if(x % n == 0):\n",
    "      is_it = False\n",
    "      break\n",
    "    else:\n",
    "      is_it = True\n",
    "  return is_it\n",
    "\n",
    "is_prime(2)"
   ]
  },
  {
   "cell_type": "code",
   "execution_count": 80,
   "metadata": {},
   "outputs": [
    {
     "name": "stdout",
     "output_type": "stream",
     "text": [
      "!nohtyP\n"
     ]
    }
   ],
   "source": [
    "def reverse(text):\n",
    "  length = len(text)\n",
    "  j = \"\"\n",
    "  for i in range(1, length + 1):\n",
    "    j = j + text[length-i]\n",
    "  print (j)\n",
    "\n",
    "reverse(\"Python!\")"
   ]
  },
  {
   "cell_type": "code",
   "execution_count": 91,
   "metadata": {},
   "outputs": [
    {
     "data": {
      "text/plain": [
       "'Hy Y!'"
      ]
     },
     "execution_count": 91,
     "metadata": {},
     "output_type": "execute_result"
    }
   ],
   "source": [
    "vowels = ['a', 'e', 'i', 'o', 'u', 'A', 'E', 'I', 'O', 'U']\n",
    "def anti_vowel(text):\n",
    "  \n",
    "  new_text = \"\"\n",
    "  for t in text:\n",
    "    if(t in vowels):\n",
    "       new_text = new_text + \"\"\n",
    "    else:\n",
    "        new_text = new_text + t\n",
    "  return new_text\n",
    "\n",
    "anti_vowel(\"Hey You!\")"
   ]
  },
  {
   "cell_type": "code",
   "execution_count": 98,
   "metadata": {},
   "outputs": [
    {
     "data": {
      "text/plain": [
       "15"
      ]
     },
     "execution_count": 98,
     "metadata": {},
     "output_type": "execute_result"
    }
   ],
   "source": [
    "score = {\"a\": 1, \"c\": 3, \"b\": 3, \"e\": 1, \"d\": 2, \"g\": 2, \n",
    "         \"f\": 4, \"i\": 1, \"h\": 4, \"k\": 5, \"j\": 8, \"m\": 3, \n",
    "         \"l\": 1, \"o\": 1, \"n\": 1, \"q\": 10, \"p\": 3, \"s\": 1, \n",
    "         \"r\": 1, \"u\": 1, \"t\": 1, \"w\": 4, \"v\": 4, \"y\": 4, \n",
    "         \"x\": 8, \"z\": 10}\n",
    "\n",
    "def scrabble_score(word):\n",
    "  total = 0\n",
    "  for letter in word.lower():\n",
    "    total = total + score[letter]\n",
    "  return total\n",
    "\n",
    "scrabble_score(\"Helix\")"
   ]
  },
  {
   "cell_type": "code",
   "execution_count": 112,
   "metadata": {},
   "outputs": [
    {
     "data": {
      "text/plain": [
       "'this **** is wack ****'"
      ]
     },
     "execution_count": 112,
     "metadata": {},
     "output_type": "execute_result"
    }
   ],
   "source": [
    "def censor(text, word):\n",
    "    words = text.split()\n",
    "    output = \"\"\n",
    "    stars = \"*\" * len(word)\n",
    "    count = 0\n",
    "    for i in words:\n",
    "        if (i == word):\n",
    "            words[count] = stars\n",
    "        count += 1\n",
    "    output = ' '.join(words)\n",
    "    return output\n",
    "\n",
    "censor(\"this hack is wack hack\", \"hack\")"
   ]
  },
  {
   "cell_type": "code",
   "execution_count": 113,
   "metadata": {},
   "outputs": [
    {
     "data": {
      "text/plain": [
       "3"
      ]
     },
     "execution_count": 113,
     "metadata": {},
     "output_type": "execute_result"
    }
   ],
   "source": [
    "def count(sequence, item):\n",
    "  cnt = 0\n",
    "  \n",
    "  for seq in sequence:\n",
    "    if item == seq:\n",
    "      cnt += 1\n",
    "  return cnt\n",
    "\n",
    "count([1, 2, 1, 1], 1)"
   ]
  },
  {
   "cell_type": "code",
   "execution_count": 115,
   "metadata": {},
   "outputs": [
    {
     "data": {
      "text/plain": [
       "[2]"
      ]
     },
     "execution_count": 115,
     "metadata": {},
     "output_type": "execute_result"
    }
   ],
   "source": [
    "def purify(num):\n",
    "  nl = []\n",
    "  cnt = 0\n",
    "  for n in num:\n",
    "    if (n % 2 == 0):\n",
    "      nl.append(n)\n",
    "  return nl\n",
    "\n",
    "purify([1,2,3])"
   ]
  },
  {
   "cell_type": "code",
   "execution_count": 116,
   "metadata": {},
   "outputs": [
    {
     "data": {
      "text/plain": [
       "100"
      ]
     },
     "execution_count": 116,
     "metadata": {},
     "output_type": "execute_result"
    }
   ],
   "source": [
    "def product(num):\n",
    "  \n",
    "  ans = 1\n",
    "  for n in num:\n",
    "    ans = ans * n\n",
    "  return ans\n",
    "\n",
    "product([4, 5, 5])"
   ]
  },
  {
   "cell_type": "code",
   "execution_count": 117,
   "metadata": {},
   "outputs": [
    {
     "data": {
      "text/plain": [
       "[1, 2]"
      ]
     },
     "execution_count": 117,
     "metadata": {},
     "output_type": "execute_result"
    }
   ],
   "source": [
    "def remove_duplicates(num):\n",
    "  \n",
    "  nl = []\n",
    "  for n in num:\n",
    "    if (n not in nl):\n",
    "      nl.append(n)\n",
    "  return nl\n",
    "\n",
    "remove_duplicates([1,1,2,2])"
   ]
  },
  {
   "cell_type": "code",
   "execution_count": 134,
   "metadata": {},
   "outputs": [
    {
     "data": {
      "text/plain": [
       "4.5"
      ]
     },
     "execution_count": 134,
     "metadata": {},
     "output_type": "execute_result"
    }
   ],
   "source": [
    "def median(num):\n",
    "    \n",
    "  num = sorted(num)\n",
    "  length = len(num)\n",
    "\n",
    "  #print(num)\n",
    "  #print(length)\n",
    "    \n",
    "  if(length % 2 != 0):\n",
    "    median = num[length//2]\n",
    "  else:\n",
    "    first = length/2\n",
    "    second = first - 1\n",
    "    median = float((num[int(first)] + num[int(second)]))/2\n",
    "  return median\n",
    "\n",
    "median([4,5,5,4])"
   ]
  }
 ],
 "metadata": {
  "kernelspec": {
   "display_name": "Python 3",
   "language": "python",
   "name": "python3"
  },
  "language_info": {
   "codemirror_mode": {
    "name": "ipython",
    "version": 3
   },
   "file_extension": ".py",
   "mimetype": "text/x-python",
   "name": "python",
   "nbconvert_exporter": "python",
   "pygments_lexer": "ipython3",
   "version": "3.6.1"
  }
 },
 "nbformat": 4,
 "nbformat_minor": 2
}
