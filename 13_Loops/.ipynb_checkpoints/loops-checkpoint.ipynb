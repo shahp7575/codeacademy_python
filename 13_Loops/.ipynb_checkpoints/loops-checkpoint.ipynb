{
 "cells": [
  {
   "cell_type": "code",
   "execution_count": 1,
   "metadata": {},
   "outputs": [
    {
     "name": "stdout",
     "output_type": "stream",
     "text": [
      "Hello, I am an if statement and count is 0\n",
      "Hello, I am a while and count is 0\n",
      "Hello, I am a while and count is 1\n",
      "Hello, I am a while and count is 2\n",
      "Hello, I am a while and count is 3\n",
      "Hello, I am a while and count is 4\n",
      "Hello, I am a while and count is 5\n",
      "Hello, I am a while and count is 6\n",
      "Hello, I am a while and count is 7\n",
      "Hello, I am a while and count is 8\n",
      "Hello, I am a while and count is 9\n"
     ]
    }
   ],
   "source": [
    "count = 0\n",
    "\n",
    "if count < 5:\n",
    "  print (\"Hello, I am an if statement and count is\", count)\n",
    "\n",
    "while count < 10:\n",
    "  print (\"Hello, I am a while and count is\", count)\n",
    "  count += 1"
   ]
  },
  {
   "cell_type": "code",
   "execution_count": 3,
   "metadata": {},
   "outputs": [
    {
     "name": "stdout",
     "output_type": "stream",
     "text": [
      "Enjoying the course? (y/n)r\n",
      "Sorry, I didn't catch that. Enter again: r\n",
      "Sorry, I didn't catch that. Enter again: r\n",
      "Sorry, I didn't catch that. Enter again: y\n"
     ]
    }
   ],
   "source": [
    "choice = input('Enjoying the course? (y/n)')\n",
    "\n",
    "while choice != 'y' and choice != 'n':  # Fill in the condition (before the colon)\n",
    "  choice = input(\"Sorry, I didn't catch that. Enter again: \")"
   ]
  },
  {
   "cell_type": "code",
   "execution_count": 4,
   "metadata": {},
   "outputs": [
    {
     "name": "stdout",
     "output_type": "stream",
     "text": [
      "0\n",
      "1\n",
      "2\n",
      "3\n",
      "4\n",
      "5\n",
      "6\n",
      "7\n",
      "8\n",
      "9\n"
     ]
    }
   ],
   "source": [
    "count = 0\n",
    "\n",
    "while count < 10: # Add a colon\n",
    "  print (count)\n",
    "  # Increment count\n",
    "  count += 1"
   ]
  },
  {
   "cell_type": "code",
   "execution_count": 5,
   "metadata": {},
   "outputs": [
    {
     "name": "stdout",
     "output_type": "stream",
     "text": [
      "0\n",
      "1\n",
      "2\n",
      "3\n",
      "4\n",
      "5\n",
      "6\n",
      "7\n",
      "8\n",
      "9\n"
     ]
    }
   ],
   "source": [
    "count = 0\n",
    "\n",
    "while True:\n",
    "  print (count)\n",
    "  count += 1\n",
    "  if count >= 10:\n",
    "    break"
   ]
  },
  {
   "cell_type": "code",
   "execution_count": 7,
   "metadata": {},
   "outputs": [
    {
     "name": "stdout",
     "output_type": "stream",
     "text": [
      "Lucky Numbers! 3 numbers will be generated.\n",
      "If one of them is a '5', you lose!\n",
      "2\n",
      "4\n",
      "3\n",
      "You win!\n"
     ]
    }
   ],
   "source": [
    "import random\n",
    "\n",
    "print (\"Lucky Numbers! 3 numbers will be generated.\")\n",
    "print (\"If one of them is a '5', you lose!\")\n",
    "\n",
    "count = 0\n",
    "while count < 3:\n",
    "  num = random.randint(1, 6)\n",
    "  print (num)\n",
    "  if num == 5:\n",
    "    print (\"Sorry, you lose!\")\n",
    "    break\n",
    "  count += 1\n",
    "else:\n",
    "  print (\"You win!\")"
   ]
  },
  {
   "cell_type": "code",
   "execution_count": 8,
   "metadata": {},
   "outputs": [
    {
     "name": "stdout",
     "output_type": "stream",
     "text": [
      "Your guess: 4\n",
      "Your guess: 8\n",
      "Your guess: 6\n",
      "You lose\n"
     ]
    }
   ],
   "source": [
    "from random import randint\n",
    "\n",
    "# Generates a number from 1 through 10 inclusive\n",
    "random_number = randint(1, 10)\n",
    "\n",
    "guesses_left = 3\n",
    "# Start your game!\n",
    "while guesses_left > 0:\n",
    "  guess = int(input(\"Your guess: \"))\n",
    "  if guess == random_number:\n",
    "    print(\"You win!\")\n",
    "    break\n",
    "  guesses_left -= 1\n",
    "else:\n",
    "  print(\"You lose\")"
   ]
  },
  {
   "cell_type": "code",
   "execution_count": 10,
   "metadata": {},
   "outputs": [
    {
     "name": "stdout",
     "output_type": "stream",
     "text": [
      "Counting...\n",
      "0\n",
      "1\n",
      "2\n",
      "3\n",
      "4\n",
      "5\n",
      "6\n",
      "7\n",
      "8\n",
      "9\n",
      "10\n",
      "11\n",
      "12\n",
      "13\n",
      "14\n",
      "15\n",
      "16\n",
      "17\n",
      "18\n",
      "19\n"
     ]
    }
   ],
   "source": [
    "print (\"Counting...\")\n",
    "\n",
    "for i in range(20):\n",
    "  print (i)"
   ]
  },
  {
   "cell_type": "code",
   "execution_count": 12,
   "metadata": {},
   "outputs": [
    {
     "name": "stdout",
     "output_type": "stream",
     "text": [
      "Hobby: soccer\n",
      "Hobby: music\n",
      "Hobby: travel\n",
      "['soccer', 'music', 'travel']\n"
     ]
    }
   ],
   "source": [
    "hobbies = []\n",
    "\n",
    "# Add your code below!\n",
    "for i in range(3):\n",
    "  hobby = input(\"Hobby: \")\n",
    "  hobbies.append(hobby)\n",
    "print(hobbies)"
   ]
  },
  {
   "cell_type": "code",
   "execution_count": 13,
   "metadata": {},
   "outputs": [
    {
     "name": "stdout",
     "output_type": "stream",
     "text": [
      "s\n",
      "p\n",
      "a\n",
      "m\n",
      "!\n",
      "e\n",
      "g\n",
      "g\n",
      "s\n",
      "!\n"
     ]
    }
   ],
   "source": [
    "thing = \"spam!\"\n",
    "\n",
    "for c in thing:\n",
    "  print (c)\n",
    "\n",
    "word = \"eggs!\"\n",
    "\n",
    "# Your code here!\n",
    "for w in word:\n",
    "  print(w)"
   ]
  },
  {
   "cell_type": "code",
   "execution_count": 15,
   "metadata": {},
   "outputs": [
    {
     "name": "stdout",
     "output_type": "stream",
     "text": [
      "X bird in the hXnd..."
     ]
    },
    {
     "data": {
      "text/plain": [
       "<function print>"
      ]
     },
     "execution_count": 15,
     "metadata": {},
     "output_type": "execute_result"
    }
   ],
   "source": [
    "phrase = \"A bird in the hand...\"\n",
    "\n",
    "# Add your for loop\n",
    "for char in phrase:\n",
    "  if (char == 'A') | (char == 'a'):\n",
    "    print(\"X\", end=\"\")\n",
    "  else:\n",
    "    print (char, end=\"\")\n",
    "\n",
    "\n",
    "\n",
    "\n",
    "#Don't delete this print statement!\n",
    "print"
   ]
  },
  {
   "cell_type": "code",
   "execution_count": 18,
   "metadata": {},
   "outputs": [
    {
     "name": "stdout",
     "output_type": "stream",
     "text": [
      "This list contains: \n",
      "7\n",
      "9\n",
      "12\n",
      "54\n",
      "99\n",
      "49\n",
      "81\n",
      "144\n",
      "2916\n",
      "9801\n"
     ]
    }
   ],
   "source": [
    "numbers  = [7, 9, 12, 54, 99]\n",
    "\n",
    "print (\"This list contains: \")\n",
    "\n",
    "for num in numbers:\n",
    "  print (num)\n",
    "\n",
    "# Add your loop below!\n",
    "for num in numbers:\n",
    "  num = num ** 2\n",
    "  print (num)"
   ]
  },
  {
   "cell_type": "code",
   "execution_count": 21,
   "metadata": {},
   "outputs": [
    {
     "name": "stdout",
     "output_type": "stream",
     "text": [
      "Your choices are:\n",
      "1 pizza\n",
      "2 pasta\n",
      "3 salad\n",
      "4 nachos\n"
     ]
    }
   ],
   "source": [
    "choices = ['pizza', 'pasta', 'salad', 'nachos']\n",
    "\n",
    "print ('Your choices are:')\n",
    "for index, item in enumerate(choices):\n",
    "  print (index + 1, item)"
   ]
  },
  {
   "cell_type": "markdown",
   "metadata": {},
   "source": [
    "The [enumerate()](https://docs.python.org/3/library/functions.html#enumerate) function supplies a corresponding index to each element in the list that you pass it."
   ]
  },
  {
   "cell_type": "code",
   "execution_count": 19,
   "metadata": {},
   "outputs": [
    {
     "name": "stdout",
     "output_type": "stream",
     "text": [
      "a apple\n",
      "b berry\n",
      "c cherry\n"
     ]
    }
   ],
   "source": [
    "d = {'a': 'apple', 'b': 'berry', 'c': 'cherry'}\n",
    "\n",
    "for key in d:\n",
    "  # Your code here!\n",
    "  print(\"%s %s\" %(key, d[key]))"
   ]
  },
  {
   "cell_type": "markdown",
   "metadata": {},
   "source": [
    "[zip()](https://docs.python.org/3/library/functions.html#zip) function lets you iterate over two lists at once.\n",
    "\n",
    "- It will create pairs of elements when passed two lists, and will stop at the end of the shorter list."
   ]
  },
  {
   "cell_type": "code",
   "execution_count": 22,
   "metadata": {},
   "outputs": [
    {
     "name": "stdout",
     "output_type": "stream",
     "text": [
      "3\n",
      "9\n",
      "17\n",
      "15\n",
      "30\n"
     ]
    }
   ],
   "source": [
    "list_a = [3, 9, 17, 15, 19]\n",
    "list_b = [2, 4, 8, 10, 30, 40, 50, 60, 70, 80, 90]\n",
    "\n",
    "for a, b in zip(list_a, list_b):\n",
    "  # Add your code here!\n",
    "  if a > b:\n",
    "    print(a)\n",
    "  else:\n",
    "    print(b)"
   ]
  },
  {
   "cell_type": "code",
   "execution_count": 37,
   "metadata": {},
   "outputs": [
    {
     "name": "stdout",
     "output_type": "stream",
     "text": [
      "You have...\n",
      "A banana\n",
      "A apple\n",
      "A orange\n",
      "A tomato is not a fruit!\n"
     ]
    }
   ],
   "source": [
    "fruits = ['banana', 'apple', 'orange', 'tomato', 'pear', 'grape']\n",
    "\n",
    "print ('You have...')\n",
    "for f in fruits:\n",
    "  if f == 'tomato':\n",
    "    print ('A tomato is not a fruit!') # (It actually is.)\n",
    "    break\n",
    "  print ('A %s' %(f))\n",
    "else:\n",
    "  print ('A fine selection of fruits!')"
   ]
  },
  {
   "cell_type": "code",
   "execution_count": 38,
   "metadata": {},
   "outputs": [
    {
     "name": "stdout",
     "output_type": "stream",
     "text": [
      "You have...\n",
      "A banana\n",
      "A apple\n",
      "A orange\n",
      "A tomato\n",
      "A pear\n",
      "A grape\n",
      "A fine selection of fruits!\n"
     ]
    }
   ],
   "source": [
    "fruits = ['banana', 'apple', 'orange', 'tomato', 'pear', 'grape']\n",
    "\n",
    "print ('You have...')\n",
    "for f in fruits:\n",
    "  if f == 'melon':\n",
    "    print ('A tomato is not a fruit!') # (It actually is.)\n",
    "    break\n",
    "  print ('A %s' %(f))\n",
    "else:\n",
    "  print ('A fine selection of fruits!')"
   ]
  },
  {
   "cell_type": "code",
   "execution_count": 39,
   "metadata": {},
   "outputs": [
    {
     "name": "stdout",
     "output_type": "stream",
     "text": [
      "This is Rock\n",
      "This is Adam\n",
      "This is Pete\n",
      "These are all my friends!\n"
     ]
    }
   ],
   "source": [
    "people = [\"Rock\", \"Adam\", \"Pete\"]\n",
    "\n",
    "for person in people:\n",
    "  if person == \"Rocky\":\n",
    "    print(\"Hi Rocky! There you are!!\")\n",
    "    break\n",
    "  print(\"This is %s\" %(person))\n",
    "  \n",
    "else:\n",
    "  print(\"These are all my friends!\")"
   ]
  }
 ],
 "metadata": {
  "kernelspec": {
   "display_name": "Python 3",
   "language": "python",
   "name": "python3"
  },
  "language_info": {
   "codemirror_mode": {
    "name": "ipython",
    "version": 3
   },
   "file_extension": ".py",
   "mimetype": "text/x-python",
   "name": "python",
   "nbconvert_exporter": "python",
   "pygments_lexer": "ipython3",
   "version": "3.6.1"
  }
 },
 "nbformat": 4,
 "nbformat_minor": 2
}
