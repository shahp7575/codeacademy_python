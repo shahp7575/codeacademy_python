{
 "cells": [
  {
   "cell_type": "code",
   "execution_count": 2,
   "metadata": {},
   "outputs": [
    {
     "data": {
      "text/plain": [
       "datetime.datetime(2018, 8, 27, 14, 53, 25, 562222)"
      ]
     },
     "execution_count": 2,
     "metadata": {},
     "output_type": "execute_result"
    }
   ],
   "source": [
    "# imports the datetime library\n",
    "from datetime import datetime\n",
    "\n",
    "# We can use a function called datetime.now() to retrieve the current date and time.\n",
    "\n",
    "datetime.now()"
   ]
  },
  {
   "cell_type": "code",
   "execution_count": 1,
   "metadata": {},
   "outputs": [
    {
     "name": "stdout",
     "output_type": "stream",
     "text": [
      "2018-08-27 14:55:37.740676\n"
     ]
    }
   ],
   "source": [
    "from datetime import datetime\n",
    "\n",
    "now = datetime.now()\n",
    "print(now)"
   ]
  },
  {
   "cell_type": "code",
   "execution_count": 2,
   "metadata": {},
   "outputs": [
    {
     "name": "stdout",
     "output_type": "stream",
     "text": [
      "2018\n",
      "8\n",
      "27\n"
     ]
    }
   ],
   "source": [
    "# What if you don't want the entire date and time?\n",
    "\n",
    "print(now.year)\n",
    "print(now.month)\n",
    "print(now.day)"
   ]
  },
  {
   "cell_type": "code",
   "execution_count": 3,
   "metadata": {},
   "outputs": [
    {
     "name": "stdout",
     "output_type": "stream",
     "text": [
      "August\n"
     ]
    }
   ],
   "source": [
    "# display month name instead of number ?\n",
    "\n",
    "print(now.strftime('%B'))"
   ]
  },
  {
   "cell_type": "markdown",
   "metadata": {},
   "source": [
    "[Check out the documentation](https://docs.python.org/2/library/datetime.html#strftime-strptime-behavior) for strftime() as well as strptime()"
   ]
  },
  {
   "cell_type": "code",
   "execution_count": 7,
   "metadata": {},
   "outputs": [
    {
     "name": "stdout",
     "output_type": "stream",
     "text": [
      "Mon\n",
      "Monday\n"
     ]
    }
   ],
   "source": [
    "# Similarly\n",
    "\n",
    "print(now.strftime('%a')) #weekday abbreviated\n",
    "print(now.strftime('%A')) #weekday fullname"
   ]
  },
  {
   "cell_type": "code",
   "execution_count": 10,
   "metadata": {},
   "outputs": [
    {
     "name": "stdout",
     "output_type": "stream",
     "text": [
      "08-27-2018\n",
      "08/27/2018\n"
     ]
    }
   ],
   "source": [
    "# to print today's date in the following format? mm-dd-yyyy\n",
    "\n",
    "print(\"%02d-%02d-%04d\" %(now.month, now.day, now.year))\n",
    "\n",
    "# mm/dd/yyyy\n",
    "\n",
    "print(\"%02d/%02d/%04d\" %(now.month, now.day, now.year))"
   ]
  },
  {
   "cell_type": "code",
   "execution_count": 18,
   "metadata": {},
   "outputs": [
    {
     "name": "stdout",
     "output_type": "stream",
     "text": [
      "15\n",
      "16\n",
      "57\n"
     ]
    }
   ],
   "source": [
    "# Let's do the same for the hour, minute, and second.\n",
    "\n",
    "from datetime import datetime\n",
    "now = datetime.now()\n",
    "\n",
    "print(now.hour)\n",
    "print(now.minute)\n",
    "print(now.second)"
   ]
  },
  {
   "cell_type": "code",
   "execution_count": 19,
   "metadata": {},
   "outputs": [
    {
     "name": "stdout",
     "output_type": "stream",
     "text": [
      "15:16:57\n"
     ]
    }
   ],
   "source": [
    "# hh:mm:ss\n",
    "\n",
    "print(\"%02d:%02d:%02d\" %(now.hour, now.minute, now.second))"
   ]
  },
  {
   "cell_type": "code",
   "execution_count": 22,
   "metadata": {},
   "outputs": [
    {
     "name": "stdout",
     "output_type": "stream",
     "text": [
      "08/27/2018 15:19:30\n"
     ]
    }
   ],
   "source": [
    "# Let's combine the two!\n",
    "now = datetime.now()\n",
    "\n",
    "print(\"%02d/%02d/%04d %02d:%02d:%02d\" %(now.month, now.day, now.year, now.hour, now.minute, now.second))"
   ]
  }
 ],
 "metadata": {
  "kernelspec": {
   "display_name": "Python 3",
   "language": "python",
   "name": "python3"
  },
  "language_info": {
   "codemirror_mode": {
    "name": "ipython",
    "version": 3
   },
   "file_extension": ".py",
   "mimetype": "text/x-python",
   "name": "python",
   "nbconvert_exporter": "python",
   "pygments_lexer": "ipython3",
   "version": "3.6.1"
  }
 },
 "nbformat": 4,
 "nbformat_minor": 2
}
