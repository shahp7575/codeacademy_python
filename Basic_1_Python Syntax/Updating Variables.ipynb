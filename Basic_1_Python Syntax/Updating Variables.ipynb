{
 "cells": [
  {
   "cell_type": "code",
   "execution_count": 2,
   "metadata": {},
   "outputs": [
    {
     "name": "stdout",
     "output_type": "stream",
     "text": [
      "Catching fish\n"
     ]
    },
    {
     "data": {
      "text/plain": [
       "40"
      ]
     },
     "execution_count": 2,
     "metadata": {},
     "output_type": "execute_result"
    }
   ],
   "source": [
    "fish_in_clarks_pond = 50\n",
    "\n",
    "print(\"Catching fish\")\n",
    "\n",
    "number_of_fish_caught = 10\n",
    "fish_in_clarks_pond = fish_in_clarks_pond - number_of_fish_caught\n",
    "\n",
    "fish_in_clarks_pond"
   ]
  },
  {
   "cell_type": "code",
   "execution_count": 3,
   "metadata": {},
   "outputs": [
    {
     "data": {
      "text/plain": [
       "31.9"
      ]
     },
     "execution_count": 3,
     "metadata": {},
     "output_type": "execute_result"
    }
   ],
   "source": [
    "money_in_wallet = 40\n",
    "sandwich_price = 7.50\n",
    "sales_tax = 0.08 * sandwich_price\n",
    "\n",
    "sandwich_price += sales_tax\n",
    "money_in_wallet -= sandwich_price\n",
    "\n",
    "money_in_wallet"
   ]
  },
  {
   "cell_type": "code",
   "execution_count": 4,
   "metadata": {
    "collapsed": true
   },
   "outputs": [],
   "source": [
    "january_to_june_rainfall = 1.93 + 0.71 + 3.53 + 3.41 + 3.69 + 4.50\n",
    "annual_rainfall = january_to_june_rainfall\n",
    "\n",
    "july_rainfall = 1.05\n",
    "annual_rainfall += july_rainfall\n",
    "\n",
    "august_rainfall = 4.91\n",
    "annual_rainfall += august_rainfall\n",
    "\n",
    "september_rainfall = 5.16\n",
    "october_rainfall = 7.20\n",
    "november_rainfall = 5.06\n",
    "december_rainfall = 4.06"
   ]
  },
  {
   "cell_type": "code",
   "execution_count": 6,
   "metadata": {},
   "outputs": [
    {
     "data": {
      "text/plain": [
       "66.69"
      ]
     },
     "execution_count": 6,
     "metadata": {},
     "output_type": "execute_result"
    }
   ],
   "source": [
    "# To pdate the annual_rainfall variable to include the values from September to December.\n",
    "\n",
    "sep_to_dec_rainfall = 5.16 + 7.20 + 5.06 + 4.06\n",
    "annual_rainfall += sep_to_dec_rainfall\n",
    "\n",
    "annual_rainfall"
   ]
  }
 ],
 "metadata": {
  "kernelspec": {
   "display_name": "Python 3",
   "language": "python",
   "name": "python3"
  },
  "language_info": {
   "codemirror_mode": {
    "name": "ipython",
    "version": 3
   },
   "file_extension": ".py",
   "mimetype": "text/x-python",
   "name": "python",
   "nbconvert_exporter": "python",
   "pygments_lexer": "ipython3",
   "version": "3.6.1"
  }
 },
 "nbformat": 4,
 "nbformat_minor": 2
}
