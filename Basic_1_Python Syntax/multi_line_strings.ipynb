{
 "cells": [
  {
   "cell_type": "code",
   "execution_count": 2,
   "metadata": {},
   "outputs": [
    {
     "name": "stdout",
     "output_type": "stream",
     "text": [
      "136 Whowho Rd\n",
      "Apt 7\n",
      "Whosville, WZ 44494\n"
     ]
    }
   ],
   "source": [
    "address_string = \"\"\"136 Whowho Rd\n",
    "Apt 7\n",
    "Whosville, WZ 44494\"\"\"\n",
    "\n",
    "print (address_string)"
   ]
  },
  {
   "cell_type": "code",
   "execution_count": 3,
   "metadata": {},
   "outputs": [
    {
     "data": {
      "text/plain": [
       "'The following piece of code does the following steps:\\ntakes in some input\\ndoes An Important Calculation\\nreturns the modified input and a string that says \"Success!\" or \"Failure...\"\\n'"
      ]
     },
     "execution_count": 3,
     "metadata": {},
     "output_type": "execute_result"
    }
   ],
   "source": [
    "# When a string like this is not assigned to a variable, it works as a multi-line comment\n",
    "\n",
    "\"\"\"The following piece of code does the following steps:\n",
    "takes in some input\n",
    "does An Important Calculation\n",
    "returns the modified input and a string that says \"Success!\" or \"Failure...\"\n",
    "\"\"\""
   ]
  },
  {
   "cell_type": "code",
   "execution_count": 5,
   "metadata": {},
   "outputs": [
    {
     "name": "stdout",
     "output_type": "stream",
     "text": [
      "The old pond,\n",
      "A frog jumps in:\n",
      "Plop!\n"
     ]
    }
   ],
   "source": [
    "haiku = \"\"\"The old pond,\n",
    "A frog jumps in:\n",
    "Plop!\"\"\"\n",
    "print (haiku)"
   ]
  }
 ],
 "metadata": {
  "kernelspec": {
   "display_name": "Python 3",
   "language": "python",
   "name": "python3"
  },
  "language_info": {
   "codemirror_mode": {
    "name": "ipython",
    "version": 3
   },
   "file_extension": ".py",
   "mimetype": "text/x-python",
   "name": "python",
   "nbconvert_exporter": "python",
   "pygments_lexer": "ipython3",
   "version": "3.6.1"
  }
 },
 "nbformat": 4,
 "nbformat_minor": 2
}
