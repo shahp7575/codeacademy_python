{
 "cells": [
  {
   "cell_type": "code",
   "execution_count": 3,
   "metadata": {},
   "outputs": [
    {
     "name": "stdout",
     "output_type": "stream",
     "text": [
      "3.0\n"
     ]
    }
   ],
   "source": [
    "# whole number division\n",
    "quotient = 6/2\n",
    "print (quotient)"
   ]
  },
  {
   "cell_type": "code",
   "execution_count": 6,
   "metadata": {},
   "outputs": [
    {
     "name": "stdout",
     "output_type": "stream",
     "text": [
      "3.5\n"
     ]
    }
   ],
   "source": [
    "quotient = 7/2\n",
    "print (quotient)\n",
    "# the value of quotient is 3, even though the result of the division here is 3.5 (only in python 2 and previous versions)"
   ]
  },
  {
   "cell_type": "code",
   "execution_count": 8,
   "metadata": {},
   "outputs": [
    {
     "name": "stdout",
     "output_type": "stream",
     "text": [
      "3.5\n",
      "3.5\n",
      "3.5\n"
     ]
    }
   ],
   "source": [
    "# Alternative\n",
    "quotient1 = 7./2\n",
    "print (quotient1)\n",
    "# the value of quotient1 is 3.5\n",
    "quotient2 = 7/2.\n",
    "print (quotient2)\n",
    "# the value of quotient2 is 3.5\n",
    "quotient3 = 7./2.\n",
    "print (quotient3)\n",
    "# the value of quotient3 is 3.5"
   ]
  },
  {
   "cell_type": "code",
   "execution_count": 10,
   "metadata": {},
   "outputs": [
    {
     "name": "stdout",
     "output_type": "stream",
     "text": [
      "3.5\n"
     ]
    }
   ],
   "source": [
    "# OR use the float() function\n",
    "quotient1 = float(7)/2 \n",
    "print (quotient1)"
   ]
  },
  {
   "cell_type": "code",
   "execution_count": 11,
   "metadata": {},
   "outputs": [
    {
     "name": "stdout",
     "output_type": "stream",
     "text": [
      "16.666666666666668\n",
      "16.666666666666668\n"
     ]
    }
   ],
   "source": [
    "# exercise\n",
    "cucumbers = 100\n",
    "num_people = 6\n",
    "\n",
    "whole_cucumbers_per_person = cucumbers/num_people\n",
    "print (whole_cucumbers_per_person)\n",
    "\n",
    "float_cucumbers_per_person = float(cucumbers)/num_people\n",
    "print (float_cucumbers_per_person)"
   ]
  }
 ],
 "metadata": {
  "kernelspec": {
   "display_name": "Python 3",
   "language": "python",
   "name": "python3"
  },
  "language_info": {
   "codemirror_mode": {
    "name": "ipython",
    "version": 3
   },
   "file_extension": ".py",
   "mimetype": "text/x-python",
   "name": "python",
   "nbconvert_exporter": "python",
   "pygments_lexer": "ipython3",
   "version": "3.6.1"
  }
 },
 "nbformat": 4,
 "nbformat_minor": 2
}
