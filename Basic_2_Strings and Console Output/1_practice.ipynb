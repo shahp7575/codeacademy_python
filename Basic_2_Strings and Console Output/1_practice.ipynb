{
 "cells": [
  {
   "cell_type": "code",
   "execution_count": 2,
   "metadata": {},
   "outputs": [
    {
     "name": "stdout",
     "output_type": "stream",
     "text": [
      "Graham\n",
      "John\n",
      "Teresa\n"
     ]
    }
   ],
   "source": [
    "# Assign your variables below, each on its own line!\n",
    "caesar = \"Graham\"\n",
    "praline = \"John\"\n",
    "viking = \"Teresa\"\n",
    "\n",
    "# Put your variables above this line\n",
    "\n",
    "print (caesar)\n",
    "print (praline)\n",
    "print (viking)"
   ]
  }
 ],
 "metadata": {
  "kernelspec": {
   "display_name": "Python 3",
   "language": "python",
   "name": "python3"
  },
  "language_info": {
   "codemirror_mode": {
    "name": "ipython",
    "version": 3
   },
   "file_extension": ".py",
   "mimetype": "text/x-python",
   "name": "python",
   "nbconvert_exporter": "python",
   "pygments_lexer": "ipython3",
   "version": "3.6.1"
  }
 },
 "nbformat": 4,
 "nbformat_minor": 2
}
