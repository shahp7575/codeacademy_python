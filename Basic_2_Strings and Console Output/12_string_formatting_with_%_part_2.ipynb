{
 "cells": [
  {
   "cell_type": "code",
   "execution_count": 2,
   "metadata": {},
   "outputs": [
    {
     "name": "stdout",
     "output_type": "stream",
     "text": [
      "The Knights who say Ni!\n"
     ]
    }
   ],
   "source": [
    "print (\"The %s who %s %s!\" % (\"Knights\", \"say\", \"Ni\"))"
   ]
  },
  {
   "cell_type": "code",
   "execution_count": 5,
   "metadata": {},
   "outputs": [
    {
     "name": "stdout",
     "output_type": "stream",
     "text": [
      "What is your name? Parth\n",
      "What is your quest? to find a job\n",
      "What is your favorite color? blue\n",
      "Ah, so your name is Parth, your quest is to find a job, and your favorite color is blue.\n"
     ]
    }
   ],
   "source": [
    "name = input(\"What is your name? \")\n",
    "quest = input(\"What is your quest? \")\n",
    "color = input(\"What is your favorite color? \")\n",
    "\n",
    "print (\"Ah, so your name is %s, your quest is %s, \" \\\n",
    "\"and your favorite color is %s.\" % (name, quest, color))"
   ]
  }
 ],
 "metadata": {
  "kernelspec": {
   "display_name": "Python 3",
   "language": "python",
   "name": "python3"
  },
  "language_info": {
   "codemirror_mode": {
    "name": "ipython",
    "version": 3
   },
   "file_extension": ".py",
   "mimetype": "text/x-python",
   "name": "python",
   "nbconvert_exporter": "python",
   "pygments_lexer": "ipython3",
   "version": "3.6.1"
  }
 },
 "nbformat": 4,
 "nbformat_minor": 2
}
