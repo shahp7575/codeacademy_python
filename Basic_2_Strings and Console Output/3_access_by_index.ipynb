{
 "cells": [
  {
   "cell_type": "code",
   "execution_count": 1,
   "metadata": {},
   "outputs": [
    {
     "name": "stdout",
     "output_type": "stream",
     "text": [
      "Y\n"
     ]
    }
   ],
   "source": [
    "\"\"\"\n",
    "The string \"PYTHON\" has six characters,\n",
    "numbered 0 to 5, as shown below:\n",
    "\n",
    "+---+---+---+---+---+---+\n",
    "| P | Y | T | H | O | N |\n",
    "+---+---+---+---+---+---+\n",
    "  0   1   2   3   4   5\n",
    "\n",
    "So if you wanted \"Y\", you could just type\n",
    "\"PYTHON\"[1] (always start counting from 0!)\n",
    "\"\"\"\n",
    "ans = \"PYTHON\"[1]\n",
    "print(ans)"
   ]
  },
  {
   "cell_type": "code",
   "execution_count": 2,
   "metadata": {},
   "outputs": [
    {
     "name": "stdout",
     "output_type": "stream",
     "text": [
      "Y\n"
     ]
    }
   ],
   "source": [
    "fifth_letter = \"MONTY\"[4]\n",
    "\n",
    "print (fifth_letter)"
   ]
  }
 ],
 "metadata": {
  "kernelspec": {
   "display_name": "Python 3",
   "language": "python",
   "name": "python3"
  },
  "language_info": {
   "codemirror_mode": {
    "name": "ipython",
    "version": 3
   },
   "file_extension": ".py",
   "mimetype": "text/x-python",
   "name": "python",
   "nbconvert_exporter": "python",
   "pygments_lexer": "ipython3",
   "version": "3.6.1"
  }
 },
 "nbformat": 4,
 "nbformat_minor": 2
}
