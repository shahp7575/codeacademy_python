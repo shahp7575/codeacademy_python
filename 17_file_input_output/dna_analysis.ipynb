{
 "cells": [
  {
   "cell_type": "code",
   "execution_count": 1,
   "metadata": {},
   "outputs": [
    {
     "name": "stdout",
     "output_type": "stream",
     "text": [
      "Number of matches: 2. Suspect can be freed.\n",
      "Number of matches: 6. Investigation should continue.\n",
      "Number of matches: 1. Suspect can be freed.\n"
     ]
    }
   ],
   "source": [
    "sample = ['GTA','GGG','CAC']\n",
    "\n",
    "def read_dna(dna_file):\n",
    "  dna_data = \"\"\n",
    "  with open(dna_file, \"r\") as f:\n",
    "    for line in f:\n",
    "      dna_data += line\n",
    "  return dna_data\n",
    "\n",
    "def dna_codons(dna):\n",
    "  codons = []\n",
    "  for i in range(0, len(dna), 3):\n",
    "    if (i + 3) < len(dna):\n",
    "      codons.append(dna[i: i + 3])\n",
    "  return codons\n",
    "\n",
    "def match_dna(dna):\n",
    "  matches = 0\n",
    "  for codon in dna:\n",
    "    if codon in sample:\n",
    "      matches += 1\n",
    "  return matches\n",
    "\n",
    "def is_criminal(dna_sample):\n",
    "  dna_data = read_dna(dna_sample)\n",
    "  codons = dna_codons(dna_data)\n",
    "  num_matches = match_dna(codons)\n",
    "  if num_matches >= 3:\n",
    "    print(\"Number of matches: %s. Investigation should continue.\" %(num_matches))\n",
    "  else:\n",
    "    print(\"Number of matches: %s. Suspect can be freed.\" %(num_matches))\n",
    "    \n",
    "is_criminal('suspect1.txt')\n",
    "is_criminal('suspect2.txt')\n",
    "is_criminal('suspect3.txt')"
   ]
  }
 ],
 "metadata": {
  "kernelspec": {
   "display_name": "Python 3",
   "language": "python",
   "name": "python3"
  },
  "language_info": {
   "codemirror_mode": {
    "name": "ipython",
    "version": 3
   },
   "file_extension": ".py",
   "mimetype": "text/x-python",
   "name": "python",
   "nbconvert_exporter": "python",
   "pygments_lexer": "ipython3",
   "version": "3.6.1"
  }
 },
 "nbformat": 4,
 "nbformat_minor": 2
}
