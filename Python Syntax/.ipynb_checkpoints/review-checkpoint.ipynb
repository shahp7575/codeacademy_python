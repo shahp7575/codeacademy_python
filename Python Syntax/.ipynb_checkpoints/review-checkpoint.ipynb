{
 "cells": [
  {
   "cell_type": "code",
   "execution_count": 1,
   "metadata": {},
   "outputs": [
    {
     "name": "stdout",
     "output_type": "stream",
     "text": [
      "165\n",
      "I got 165 points!\n"
     ]
    }
   ],
   "source": [
    "#final_review\n",
    "skill_completed = \"Python Syntax\"\n",
    "\n",
    "exercises_completed = 13\n",
    "#The amount of points for each exercise may change, because points don't exist yet\n",
    "points_per_exercise = 5\n",
    "\n",
    "point_total = 100\n",
    "\n",
    "point_total = point_total + (exercises_completed * \n",
    "points_per_exercise)\n",
    "print(point_total)\n",
    "\n",
    "output = \"I got \" + str(point_total) + \" points!\"\n",
    "print(output)"
   ]
  }
 ],
 "metadata": {
  "kernelspec": {
   "display_name": "Python 3",
   "language": "python",
   "name": "python3"
  },
  "language_info": {
   "codemirror_mode": {
    "name": "ipython",
    "version": 3
   },
   "file_extension": ".py",
   "mimetype": "text/x-python",
   "name": "python",
   "nbconvert_exporter": "python",
   "pygments_lexer": "ipython3",
   "version": "3.6.1"
  }
 },
 "nbformat": 4,
 "nbformat_minor": 2
}
