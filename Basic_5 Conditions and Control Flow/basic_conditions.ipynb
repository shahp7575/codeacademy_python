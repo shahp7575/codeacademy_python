{
 "cells": [
  {
   "cell_type": "code",
   "execution_count": 1,
   "metadata": {
    "collapsed": true
   },
   "outputs": [],
   "source": [
    "# Assign True or False as appropriate on the lines below!\n",
    "\n",
    "# Set this to True if 17 < 328 or to False if it is not.\n",
    "bool_one = True   # We did this one for you!\n",
    "\n",
    "# Set this to True if 100 == (2 * 50) or to False otherwise.\n",
    "bool_two = True\n",
    "\n",
    "# Set this to True if 19 <= 19 or to False if it is not.\n",
    "bool_three = True\n",
    "\n",
    "# Set this to True if -22 >= -18 or to False if it is not.\n",
    "bool_four = False\n",
    "\n",
    "# Set this to True if 99 != (98 + 1) or to False otherwise.\n",
    "bool_five = False"
   ]
  },
  {
   "cell_type": "code",
   "execution_count": 2,
   "metadata": {
    "collapsed": true
   },
   "outputs": [],
   "source": [
    "# Assign True or False as appropriate on the lines below!\n",
    "\n",
    "# (20 - 10) > 15\n",
    "bool_one = False    # We did this one for you!\n",
    "\n",
    "# (10 + 17) == 3**16\n",
    "# Remember that ** can be read as 'to the power of'. 3**16 is about 43 million.\n",
    "bool_two = False\n",
    "\n",
    "# 1**2 <= -1\n",
    "bool_three = False\n",
    "\n",
    "# 40 * 4 >= -4\n",
    "bool_four = True\n",
    "\n",
    "# 100 != 10**2\n",
    "bool_five = False"
   ]
  },
  {
   "cell_type": "code",
   "execution_count": 3,
   "metadata": {
    "collapsed": true
   },
   "outputs": [],
   "source": [
    "bool_one = False and False\n",
    "\n",
    "bool_two = -(-(-(-2))) == -2 and 4 >= 16 ** 0.5\n",
    "\n",
    "bool_three = 19 % 4 != 300 / 10 / 10 and False\n",
    "\n",
    "bool_four = -(1 ** 2) < 2 ** 0 and 10 % 10 <= 20 - 10 * 2\n",
    "\n",
    "bool_five = True and True"
   ]
  },
  {
   "cell_type": "code",
   "execution_count": 4,
   "metadata": {
    "collapsed": true
   },
   "outputs": [],
   "source": [
    "# Just like with arithmetic operators, there's an order of operations for boolean operators:\n",
    "\n",
    "# not is evaluated first;\n",
    "# and is evaluated next;\n",
    "# or is evaluated last.\n",
    "\n",
    "# For example, True or not False and False returns True!"
   ]
  },
  {
   "cell_type": "code",
   "execution_count": 6,
   "metadata": {},
   "outputs": [
    {
     "name": "stdout",
     "output_type": "stream",
     "text": [
      "This is the Verbal Abuse Room, you heap of parrot droppings!\n"
     ]
    }
   ],
   "source": [
    "response = 'Y'\n",
    "\n",
    "answer = \"Left\"\n",
    "if answer == \"Left\":\n",
    "    print (\"This is the Verbal Abuse Room, you heap of parrot droppings!\")\n",
    "    \n",
    "# Will the above print statement print to the console?\n",
    "# Set response to 'Y' if you think so, and 'N' if you think not."
   ]
  },
  {
   "cell_type": "code",
   "execution_count": 7,
   "metadata": {
    "collapsed": true
   },
   "outputs": [],
   "source": [
    "answer = \"'Tis but a scratch!\"\n",
    "\n",
    "def black_knight():\n",
    "    if answer == \"'Tis but a scratch!\":\n",
    "        return True\n",
    "    else:             \n",
    "        return False      # Make sure this returns False\n",
    "\n",
    "def french_soldier():\n",
    "    if answer == \"Go away, or I shall taunt you a second time!\":\n",
    "        return True\n",
    "    else:             \n",
    "        return False       # Make sure this returns False"
   ]
  }
 ],
 "metadata": {
  "kernelspec": {
   "display_name": "Python 3",
   "language": "python",
   "name": "python3"
  },
  "language_info": {
   "codemirror_mode": {
    "name": "ipython",
    "version": 3
   },
   "file_extension": ".py",
   "mimetype": "text/x-python",
   "name": "python",
   "nbconvert_exporter": "python",
   "pygments_lexer": "ipython3",
   "version": "3.6.1"
  }
 },
 "nbformat": 4,
 "nbformat_minor": 2
}
