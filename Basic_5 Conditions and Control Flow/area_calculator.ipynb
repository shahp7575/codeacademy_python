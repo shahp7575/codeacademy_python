{
 "cells": [
  {
   "cell_type": "code",
   "execution_count": 2,
   "metadata": {},
   "outputs": [
    {
     "name": "stdout",
     "output_type": "stream",
     "text": [
      "Program is up and running !\n",
      "Enter C for Circle or T for Triangle:C\n",
      "Enter radius:10\n",
      "Area of Circle: 314.159000\n",
      "Program is exiting\n"
     ]
    }
   ],
   "source": [
    "'''Compute the area'''\n",
    "\n",
    "print(\"Program is up and running !\")\n",
    "\n",
    "option = input(\"Enter C for Circle or T for Triangle:\")\n",
    "\n",
    "if option == 'C':\n",
    "  radius = float(input(\"Enter radius:\"))\n",
    "  area = 3.14159 * (radius ** 2)\n",
    "  print(\"Area of Circle: %f\" %(area))\n",
    "  \n",
    "elif option == 'T':\n",
    "  base = float(input(\"Enter base of triangle:\"))\n",
    "  height = float(input(\"Enter height of triangle:\"))\n",
    "  area = 0.5*base*height\n",
    "  print(\"Area of Triangle: %f\" %(area))\n",
    "  \n",
    "else:\n",
    "  print(\"Invalid Shape\")\n",
    "\n",
    "print(\"Program is exiting\")"
   ]
  }
 ],
 "metadata": {
  "kernelspec": {
   "display_name": "Python 3",
   "language": "python",
   "name": "python3"
  },
  "language_info": {
   "codemirror_mode": {
    "name": "ipython",
    "version": 3
   },
   "file_extension": ".py",
   "mimetype": "text/x-python",
   "name": "python",
   "nbconvert_exporter": "python",
   "pygments_lexer": "ipython3",
   "version": "3.6.1"
  }
 },
 "nbformat": 4,
 "nbformat_minor": 2
}
