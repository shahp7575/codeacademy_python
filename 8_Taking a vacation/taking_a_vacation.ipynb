{
 "cells": [
  {
   "cell_type": "code",
   "execution_count": 9,
   "metadata": {},
   "outputs": [
    {
     "name": "stdout",
     "output_type": "stream",
     "text": [
      "1815\n"
     ]
    }
   ],
   "source": [
    "def hotel_cost(nights):\n",
    "  return 140*nights\n",
    "\n",
    "def plane_ride_cost(city):\n",
    "  if city == 'Charlotte':\n",
    "    return 183\n",
    "  elif city == 'Tampa':\n",
    "    return 220\n",
    "  elif city == 'Pittsburgh':\n",
    "    return 222\n",
    "  elif city == 'Los Angeles':\n",
    "    return 475\n",
    "  \n",
    "def rental_car_cost(days):\n",
    "  cost = 40*days\n",
    "  if days >= 7:\n",
    "    cost = cost - 50\n",
    "  elif (days >=3) & (days <= 6):\n",
    "  \tcost = cost - 20\n",
    "  return cost\n",
    "\n",
    "def trip_cost(city, days, spending_money):\n",
    "  return rental_car_cost(days) + hotel_cost(days - 1) + plane_ride_cost(city) + spending_money\n",
    "\n",
    "print(trip_cost('Los Angeles', 5, 600))"
   ]
  }
 ],
 "metadata": {
  "kernelspec": {
   "display_name": "Python 3",
   "language": "python",
   "name": "python3"
  },
  "language_info": {
   "codemirror_mode": {
    "name": "ipython",
    "version": 3
   },
   "file_extension": ".py",
   "mimetype": "text/x-python",
   "name": "python",
   "nbconvert_exporter": "python",
   "pygments_lexer": "ipython3",
   "version": "3.6.1"
  }
 },
 "nbformat": 4,
 "nbformat_minor": 2
}
