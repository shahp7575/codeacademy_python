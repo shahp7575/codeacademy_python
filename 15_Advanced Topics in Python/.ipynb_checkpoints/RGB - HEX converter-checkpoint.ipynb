{
 "cells": [
  {
   "cell_type": "code",
   "execution_count": 1,
   "metadata": {},
   "outputs": [
    {
     "name": "stdout",
     "output_type": "stream",
     "text": [
      "Enter 1 to convert RGB to HEX, Enter 2 to convert HEX to RGB. Enter X to Exit:1\n",
      "RGB to Hex...\n",
      "Enter Red value: 45\n",
      "Enter Green value: 45\n",
      "Enter Blue value: 65\n",
      "2D2D41\n",
      "Enter 1 to convert RGB to HEX, Enter 2 to convert HEX to RGB. Enter X to Exit:2\n",
      "Hex to RGB...\n",
      "Enter a hexadecimal value: 147890\n",
      "20120144\n",
      "Enter 1 to convert RGB to HEX, Enter 2 to convert HEX to RGB. Enter X to Exit:X\n"
     ]
    }
   ],
   "source": [
    "def rgb_hex():\n",
    "  invalid_msg = \"Invalid values entered\"\n",
    "  red = int(input(\"Enter Red value: \"))\n",
    "  if (red < 0) or (red > 255):\n",
    "    print(invalid_msg)\n",
    "  green = int(input(\"Enter Green value: \"))\n",
    "  if (green < 0) or (green > 255):\n",
    "    print(invalid_msg)\n",
    "  blue = int(input(\"Enter Blue value: \"))\n",
    "  if (blue < 0) or (blue > 255):\n",
    "    print(invalid_msg)\n",
    "  \n",
    "  val = (red << 16) + (green << 8) + blue\n",
    "  print (\"%s\" % (hex(val)[2:]).upper())\n",
    "  \n",
    "def hex_rgb():\n",
    "  hex_val = input(\"Enter a hexadecimal value: \")\n",
    "  if len(hex_val) != 6:\n",
    "    print(\"Invalid value was entered\")\n",
    "  else:\n",
    "    hex_val = int(hex_val, 16)\n",
    "  two_hex_digits = 2**8\n",
    "  blue = hex_val % two_hex_digits\n",
    "  hex_val = hex_val >> 8\n",
    "  green = hex_val % two_hex_digits\n",
    "  hex_val = hex_val >> 8\n",
    "  red = hex_val % two_hex_digits\n",
    "  print (\"%s%s%s\" %(red, green, blue))\n",
    "  \n",
    "def convert():\n",
    "  while(True):\n",
    "    option = input(\"Enter 1 to convert RGB to HEX, Enter 2 to convert HEX to RGB. Enter X to Exit:\")\n",
    "    if(option == '1'):\n",
    "      print(\"RGB to Hex...\")\n",
    "      rgb_hex()\n",
    "    elif(option == '2'):\n",
    "      print(\"Hex to RGB...\")\n",
    "      hex_rgb()\n",
    "    elif(option == 'X'):\n",
    "      break\n",
    "    else:\n",
    "      print(\"Error\")\n",
    "convert()"
   ]
  }
 ],
 "metadata": {
  "kernelspec": {
   "display_name": "Python 3",
   "language": "python",
   "name": "python3"
  },
  "language_info": {
   "codemirror_mode": {
    "name": "ipython",
    "version": 3
   },
   "file_extension": ".py",
   "mimetype": "text/x-python",
   "name": "python",
   "nbconvert_exporter": "python",
   "pygments_lexer": "ipython3",
   "version": "3.6.1"
  }
 },
 "nbformat": 4,
 "nbformat_minor": 2
}
