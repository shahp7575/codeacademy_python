{
 "cells": [
  {
   "cell_type": "code",
   "execution_count": 1,
   "metadata": {},
   "outputs": [
    {
     "name": "stdout",
     "output_type": "stream",
     "text": [
      "0\n",
      "10\n",
      "0\n",
      "13\n",
      "38\n",
      "-89\n"
     ]
    }
   ],
   "source": [
    "print (5 >> 4)  # Right Shift\n",
    "print (5 << 1)  # Left Shift\n",
    "print (8 & 5)   # Bitwise AND\n",
    "print (9 | 4)   # Bitwise OR\n",
    "print (12 ^ 42) # Bitwise XOR\n",
    "print (~88)     # Bitwise NOT"
   ]
  },
  {
   "cell_type": "code",
   "execution_count": 3,
   "metadata": {},
   "outputs": [
    {
     "name": "stdout",
     "output_type": "stream",
     "text": [
      "1\n",
      "2\n",
      "3\n",
      "4\n",
      "5\n",
      "6\n",
      "7\n",
      "******\n",
      "4\n",
      "9\n"
     ]
    }
   ],
   "source": [
    "# numbers can be written in binary format by starting the number with 0b\n",
    "print (0b1),    #1\n",
    "print (0b10),   #2\n",
    "print (0b11),   #3\n",
    "print (0b100),  #4\n",
    "print (0b101),  #5\n",
    "print (0b110),  #6\n",
    "print (0b111)   #7\n",
    "print (\"******\")\n",
    "print (0b1 + 0b11)\n",
    "print (0b11 * 0b11)"
   ]
  },
  {
   "cell_type": "code",
   "execution_count": 5,
   "metadata": {},
   "outputs": [
    {
     "name": "stdout",
     "output_type": "stream",
     "text": [
      "0b1\n",
      "0b10\n",
      "0b11\n",
      "0b100\n",
      "0b101\n"
     ]
    }
   ],
   "source": [
    "print (bin(1))\n",
    "print (bin(2))\n",
    "print (bin(3))\n",
    "print (bin(4))\n",
    "print (bin(5))"
   ]
  },
  {
   "cell_type": "code",
   "execution_count": 8,
   "metadata": {},
   "outputs": [
    {
     "name": "stdout",
     "output_type": "stream",
     "text": [
      "1\n",
      "2\n",
      "7\n",
      "4\n",
      "5\n",
      "201\n"
     ]
    }
   ],
   "source": [
    "print (int(\"1\",2))\n",
    "print (int(\"10\",2))\n",
    "print (int(\"111\",2))\n",
    "print (int(\"0b100\",2))\n",
    "print (int(bin(5),2))\n",
    "# Print out the decimal equivalent of the binary 11001001.\n",
    "print (int(\"11001001\", 2))"
   ]
  },
  {
   "cell_type": "code",
   "execution_count": 9,
   "metadata": {},
   "outputs": [
    {
     "name": "stdout",
     "output_type": "stream",
     "text": [
      "0b11\n",
      "0b100\n"
     ]
    }
   ],
   "source": [
    "shift_right = 0b1100\n",
    "shift_left = 0b1\n",
    "\n",
    "# Your code here!\n",
    "shift_right = shift_right >> 2\n",
    "shift_left = shift_left << 2\n",
    "\n",
    "print (bin(shift_right))\n",
    "print (bin(shift_left))"
   ]
  },
  {
   "cell_type": "code",
   "execution_count": 10,
   "metadata": {},
   "outputs": [
    {
     "name": "stdout",
     "output_type": "stream",
     "text": [
      "0b100\n"
     ]
    }
   ],
   "source": [
    "print(bin(0b1110 & 0b101))"
   ]
  },
  {
   "cell_type": "code",
   "execution_count": 11,
   "metadata": {},
   "outputs": [
    {
     "name": "stdout",
     "output_type": "stream",
     "text": [
      "0b1111\n"
     ]
    }
   ],
   "source": [
    "print(bin(0b1110 | 0b101))"
   ]
  },
  {
   "cell_type": "code",
   "execution_count": 12,
   "metadata": {},
   "outputs": [
    {
     "name": "stdout",
     "output_type": "stream",
     "text": [
      "0b1011\n"
     ]
    }
   ],
   "source": [
    "print(bin(0b1110 ^ 0b101)) #xor"
   ]
  },
  {
   "cell_type": "code",
   "execution_count": 13,
   "metadata": {},
   "outputs": [
    {
     "name": "stdout",
     "output_type": "stream",
     "text": [
      "-2\n",
      "-3\n",
      "-4\n",
      "-43\n",
      "-124\n"
     ]
    }
   ],
   "source": [
    "# NOT operator - simply means adding 1 to the number and then making it negative\n",
    "print (~1)\n",
    "print (~2)\n",
    "print (~3)\n",
    "print (~42)\n",
    "print (~123)"
   ]
  },
  {
   "cell_type": "code",
   "execution_count": 14,
   "metadata": {
    "collapsed": true
   },
   "outputs": [],
   "source": [
    "# to check if the fourth bit from the right is on or not\n",
    "def check_bit4(input):\n",
    "  \n",
    "    mask = 0b1000\n",
    "    desired = input & mask\n",
    "    if desired > 0:\n",
    "      return \"on\"\n",
    "    else:\n",
    "      return \"off\""
   ]
  },
  {
   "cell_type": "code",
   "execution_count": 15,
   "metadata": {},
   "outputs": [
    {
     "name": "stdout",
     "output_type": "stream",
     "text": [
      "0b10111111\n"
     ]
    }
   ],
   "source": [
    "# Achieve a result where the third bit from the right of a is turned on\n",
    "a = 0b10111011\n",
    "mask = 0b100\n",
    "desired = a | mask\n",
    "\n",
    "print(bin(desired))"
   ]
  },
  {
   "cell_type": "code",
   "execution_count": 16,
   "metadata": {},
   "outputs": [
    {
     "name": "stdout",
     "output_type": "stream",
     "text": [
      "0b10001\n"
     ]
    }
   ],
   "source": [
    "# Achieve a result where all of the bits in a are flipped\n",
    "a = 0b11101110\n",
    "mask = 0b11111111\n",
    "desired = a ^ mask\n",
    "\n",
    "print(bin(desired))"
   ]
  },
  {
   "cell_type": "code",
   "execution_count": 17,
   "metadata": {
    "collapsed": true
   },
   "outputs": [],
   "source": [
    "def flip_bit(number, n):\n",
    "  bit_to_flip = 0b1 << (n -1)\n",
    "  result = number ^ bit_to_flip\n",
    "  return bin(result)"
   ]
  },
  {
   "cell_type": "code",
   "execution_count": null,
   "metadata": {
    "collapsed": true
   },
   "outputs": [],
   "source": []
  }
 ],
 "metadata": {
  "kernelspec": {
   "display_name": "Python 3",
   "language": "python",
   "name": "python3"
  },
  "language_info": {
   "codemirror_mode": {
    "name": "ipython",
    "version": 3
   },
   "file_extension": ".py",
   "mimetype": "text/x-python",
   "name": "python",
   "nbconvert_exporter": "python",
   "pygments_lexer": "ipython3",
   "version": "3.6.1"
  }
 },
 "nbformat": 4,
 "nbformat_minor": 2
}
