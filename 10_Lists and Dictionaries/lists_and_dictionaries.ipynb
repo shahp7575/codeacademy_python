{
 "cells": [
  {
   "cell_type": "code",
   "execution_count": 2,
   "metadata": {},
   "outputs": [
    {
     "name": "stdout",
     "output_type": "stream",
     "text": [
      "The first animal at the zoo is the pangolin\n",
      "The second animal at the zoo is the cassowary\n",
      "The third animal at the zoo is the sloth\n",
      "The fourth animal at the zoo is the cat\n"
     ]
    }
   ],
   "source": [
    "zoo_animals = [\"pangolin\", \"cassowary\", \"sloth\", \"cat\" ];\n",
    "# One animal is missing!\n",
    "\n",
    "if len(zoo_animals) > 3:\n",
    "  print (\"The first animal at the zoo is the \" + zoo_animals[0])\n",
    "  print (\"The second animal at the zoo is the \" + zoo_animals[1])\n",
    "  print (\"The third animal at the zoo is the \" + zoo_animals[2])\n",
    "  print (\"The fourth animal at the zoo is the \" + zoo_animals[3])"
   ]
  },
  {
   "cell_type": "code",
   "execution_count": 4,
   "metadata": {},
   "outputs": [
    {
     "name": "stdout",
     "output_type": "stream",
     "text": [
      "Adding the numbers at indices 0 and 2...\n",
      "12\n",
      "Adding the numbers at indices 1 and 3...\n",
      "14\n"
     ]
    }
   ],
   "source": [
    "numbers = [5, 6, 7, 8]\n",
    "\n",
    "print (\"Adding the numbers at indices 0 and 2...\")\n",
    "print (numbers[0] + numbers[2])\n",
    "print (\"Adding the numbers at indices 1 and 3...\")\n",
    "print (numbers[1] + numbers[3])"
   ]
  },
  {
   "cell_type": "code",
   "execution_count": 7,
   "metadata": {},
   "outputs": [
    {
     "name": "stdout",
     "output_type": "stream",
     "text": [
      "There are 4 items in the suitcase.\n",
      "['sunglasses', 'bathing suit', 'food', 'sunscreen']\n"
     ]
    }
   ],
   "source": [
    "suitcase = [] \n",
    "suitcase.append(\"sunglasses\")\n",
    "\n",
    "# Your code here!\n",
    "suitcase.append(\"bathing suit\")\n",
    "suitcase.append(\"food\")\n",
    "suitcase.append(\"sunscreen\")\n",
    "\n",
    "list_length = len(suitcase) # Set this to the length of suitcase\n",
    "\n",
    "print (\"There are %d items in the suitcase.\" % (list_length))\n",
    "print (suitcase)"
   ]
  },
  {
   "cell_type": "code",
   "execution_count": 8,
   "metadata": {
    "collapsed": true
   },
   "outputs": [],
   "source": [
    "suitcase = [\"sunglasses\", \"hat\", \"passport\", \"laptop\", \"suit\", \"shoes\"]\n",
    "\n",
    "# The first and second items (index zero and one)\n",
    "first = suitcase[0:2]\n",
    "\n",
    "# Third and fourth items (index two and three)\n",
    "middle = suitcase[2:4]\n",
    "\n",
    "# The last two items (index four and five)\n",
    "last =  suitcase[4:]"
   ]
  },
  {
   "cell_type": "code",
   "execution_count": 9,
   "metadata": {
    "collapsed": true
   },
   "outputs": [],
   "source": [
    "animals = \"catdogfrog\"\n",
    "\n",
    "# The first three characters of animals\n",
    "cat = animals[:3]\n",
    "\n",
    "# The fourth through sixth characters\n",
    "dog = animals[3:6]\n",
    "\n",
    "# From the seventh character to the end\n",
    "frog = animals[6:]"
   ]
  },
  {
   "cell_type": "code",
   "execution_count": 10,
   "metadata": {},
   "outputs": [
    {
     "name": "stdout",
     "output_type": "stream",
     "text": [
      "['aardvark', 'badger', 'cobra', 'duck', 'emu', 'fennec fox']\n"
     ]
    }
   ],
   "source": [
    "animals = [\"aardvark\", \"badger\", \"duck\", \"emu\", \"fennec fox\"]\n",
    "duck_index = animals.index(\"duck\")\n",
    "\n",
    "# Your code here!\n",
    "animals.insert(duck_index, \"cobra\")\n",
    "\n",
    "print (animals) # Observe what prints after the insert operation"
   ]
  },
  {
   "cell_type": "code",
   "execution_count": 11,
   "metadata": {},
   "outputs": [
    {
     "name": "stdout",
     "output_type": "stream",
     "text": [
      "2\n",
      "18\n",
      "6\n",
      "16\n",
      "10\n",
      "14\n"
     ]
    }
   ],
   "source": [
    "my_list = [1,9,3,8,5,7]\n",
    "\n",
    "for number in my_list:\n",
    " print(2*number)"
   ]
  },
  {
   "cell_type": "code",
   "execution_count": 12,
   "metadata": {},
   "outputs": [
    {
     "name": "stdout",
     "output_type": "stream",
     "text": [
      "[1, 4, 9, 16, 25]\n"
     ]
    }
   ],
   "source": [
    "# Sorting\n",
    "\n",
    "start_list = [5, 3, 1, 2, 4]\n",
    "square_list = []\n",
    "\n",
    "# Your code here!\n",
    "\n",
    "for num in start_list:\n",
    "  square_list.append(num**2)\n",
    "  \n",
    "square_list.sort()\n",
    "\n",
    "print (square_list)"
   ]
  }
 ],
 "metadata": {
  "kernelspec": {
   "display_name": "Python 3",
   "language": "python",
   "name": "python3"
  },
  "language_info": {
   "codemirror_mode": {
    "name": "ipython",
    "version": 3
   },
   "file_extension": ".py",
   "mimetype": "text/x-python",
   "name": "python",
   "nbconvert_exporter": "python",
   "pygments_lexer": "ipython3",
   "version": "3.6.1"
  }
 },
 "nbformat": 4,
 "nbformat_minor": 2
}
