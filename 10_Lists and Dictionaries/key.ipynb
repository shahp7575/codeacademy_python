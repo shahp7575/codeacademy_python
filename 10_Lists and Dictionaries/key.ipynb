{
 "cells": [
  {
   "cell_type": "code",
   "execution_count": 2,
   "metadata": {},
   "outputs": [
    {
     "name": "stdout",
     "output_type": "stream",
     "text": [
      "104\n",
      "105\n",
      "106\n"
     ]
    }
   ],
   "source": [
    "# Assigning a dictionary with three key-value pairs to residents:\n",
    "residents = {'Puffin' : 104, 'Sloth' : 105, 'Burmese Python' : 106}\n",
    "\n",
    "print (residents['Puffin']) # Prints Puffin's room number\n",
    "\n",
    "# Your code here!\n",
    "print(residents['Sloth'])\n",
    "print(residents['Burmese Python'])"
   ]
  },
  {
   "cell_type": "code",
   "execution_count": 7,
   "metadata": {},
   "outputs": [
    {
     "name": "stdout",
     "output_type": "stream",
     "text": [
      "14.5\n",
      "There are 4 items on the menu.\n",
      "{'Chicken Alfredo': 14.5, 'Yogurt': 1.5, 'Noodles': 2.5, 'Burger': 2.0}\n"
     ]
    }
   ],
   "source": [
    "menu = {} # Empty dictionary\n",
    "menu['Chicken Alfredo'] = 14.50 # Adding new key-value pair\n",
    "print (menu['Chicken Alfredo'])\n",
    "\n",
    "# Your code here: Add some dish-price pairs to menu!\n",
    "menu['Yogurt'] = 1.50\n",
    "menu['Noodles'] = 2.50\n",
    "menu['Burger'] = 2.00\n",
    "\n",
    "\n",
    "\n",
    "print (\"There are \" + str(len(menu)) + \" items on the menu.\")\n",
    "print (menu)"
   ]
  },
  {
   "cell_type": "code",
   "execution_count": 8,
   "metadata": {},
   "outputs": [
    {
     "name": "stdout",
     "output_type": "stream",
     "text": [
      "{'Atlantic Puffin': 'Arctic Exhibit', 'Rockhopper Penguin': 'Arctic'}\n"
     ]
    }
   ],
   "source": [
    "# key - animal_name : value - location \n",
    "zoo_animals = { 'Unicorn' : 'Cotton Candy House',\n",
    "'Sloth' : 'Rainforest Exhibit',\n",
    "'Bengal Tiger' : 'Jungle House',\n",
    "'Atlantic Puffin' : 'Arctic Exhibit',\n",
    "'Rockhopper Penguin' : 'Arctic Exhibit'}\n",
    "# A dictionary (or list) declaration may break across multiple lines\n",
    "\n",
    "# Removing the 'Unicorn' entry. (Unicorns are incredibly expensive.)\n",
    "del zoo_animals['Unicorn']\n",
    "\n",
    "# Your code here!\n",
    "del zoo_animals['Sloth']\n",
    "del zoo_animals['Bengal Tiger']\n",
    "\n",
    "zoo_animals['Rockhopper Penguin'] = 'Arctic'\n",
    "\n",
    "print (zoo_animals)"
   ]
  },
  {
   "cell_type": "code",
   "execution_count": 9,
   "metadata": {
    "collapsed": true
   },
   "outputs": [],
   "source": [
    "backpack = ['xylophone', 'dagger', 'tent', 'bread loaf']\n",
    "\n",
    "backpack.remove('dagger')"
   ]
  },
  {
   "cell_type": "code",
   "execution_count": 10,
   "metadata": {
    "collapsed": true
   },
   "outputs": [],
   "source": [
    "inventory = {\n",
    "  'gold' : 500,\n",
    "  'pouch' : ['flint', 'twine', 'gemstone'], # Assigned a new list to 'pouch' key\n",
    "  'backpack' : ['xylophone','dagger', 'bedroll','bread loaf']\n",
    "}\n",
    "\n",
    "inventory['backpack'].sort()\n",
    "inventory['backpack'].remove('dagger')\n",
    "# Adding a key 'burlap bag' and assigning a list to it\n",
    "inventory['burlap bag'] = ['apple', 'small ruby', 'three-toed sloth']\n",
    "\n",
    "# Sorting the list found under the key 'pouch'\n",
    "inventory['pouch'].sort() \n",
    "\n",
    "# Your code here\n",
    "inventory['pocket'] = ['seashell', 'strange berry', 'lint']\n",
    "inventory['gold'] = 550"
   ]
  }
 ],
 "metadata": {
  "kernelspec": {
   "display_name": "Python 3",
   "language": "python",
   "name": "python3"
  },
  "language_info": {
   "codemirror_mode": {
    "name": "ipython",
    "version": 3
   },
   "file_extension": ".py",
   "mimetype": "text/x-python",
   "name": "python",
   "nbconvert_exporter": "python",
   "pygments_lexer": "ipython3",
   "version": "3.6.1"
  }
 },
 "nbformat": 4,
 "nbformat_minor": 2
}
