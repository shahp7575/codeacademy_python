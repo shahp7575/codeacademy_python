{
 "cells": [
  {
   "cell_type": "code",
   "execution_count": 14,
   "metadata": {},
   "outputs": [
    {
     "name": "stdout",
     "output_type": "stream",
     "text": [
      "Enter Rock, Paper or Scissors: paper\n",
      "You selected: PAPER\n",
      "Computer Selected: PAPER\n",
      "Yawn it's a tie!\n"
     ]
    }
   ],
   "source": [
    "'''Rock Paper Scissors'''\n",
    "\n",
    "from random import randint\n",
    "\n",
    "options = [\"ROCK\", \"PAPER\", \"SCISSORS\"]\n",
    "\n",
    "message = {\n",
    "  \"tie\" : \"Yawn it's a tie!\",\n",
    "  \"won\" : \"Yay you won!\",\n",
    "  \"lost\" : \"Aww you lost!\"\n",
    "}\n",
    "\n",
    "def decide_winner(user_choice, computer_choice):\n",
    "  print(\"You selected: %s\" %(user_choice))\n",
    "  print(\"Computer Selected: %s\" %options[computer_choice])\n",
    "  \n",
    "  if (user_choice == options[computer_choice]):\n",
    "    print(message[\"tie\"])\n",
    "    \n",
    "  elif (user_choice == options[0]) & (options[computer_choice] == options[2]):\n",
    "    print(message[\"won\"])\n",
    "    \n",
    "  elif (user_choice == options[1]) & (options[computer_choice] == options[0]):\n",
    "    print(message[\"won\"])\n",
    "    \n",
    "  elif (user_choice == options[2]) & (options[computer_choice] == options[1]):\n",
    "    print(message[\"won\"])\n",
    "    \n",
    "  else:\n",
    "    print(message[\"lost\"])\n",
    "\n",
    "def play_RPS():\n",
    "    user_choice = input(\"Enter Rock, Paper or Scissors: \").upper()\n",
    "    computer_choice = randint(0,2)\n",
    "    \n",
    "    decide_winner(user_choice, computer_choice)\n",
    "\n",
    "play_RPS()"
   ]
  }
 ],
 "metadata": {
  "kernelspec": {
   "display_name": "Python 3",
   "language": "python",
   "name": "python3"
  },
  "language_info": {
   "codemirror_mode": {
    "name": "ipython",
    "version": 3
   },
   "file_extension": ".py",
   "mimetype": "text/x-python",
   "name": "python",
   "nbconvert_exporter": "python",
   "pygments_lexer": "ipython3",
   "version": "3.6.1"
  }
 },
 "nbformat": 4,
 "nbformat_minor": 2
}
